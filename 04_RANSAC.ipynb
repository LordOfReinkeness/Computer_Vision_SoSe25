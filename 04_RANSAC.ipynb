{
 "cells": [
  {
   "metadata": {},
   "cell_type": "markdown",
   "source": [
    "# Automatische Registrierung zweier Bilder mit SIFT und RANSAC\n",
    "## Direkte Lineartransformation\n",
    "\n",
    "### Teil A\n",
    "Implementieren Sie die direkte Linear transformation zur Schätzung einer Homografie zwischen zwei Bildern eines Panoramas. Normieren Sie Ihre Homografie immer so, dass der letzte untere Eintrag in der Homografie-Matrix 1 ist."
   ],
   "id": "4db47c2e5d728a1d"
  },
  {
   "metadata": {},
   "cell_type": "code",
   "outputs": [],
   "execution_count": null,
   "source": "",
   "id": "f4c5604c3f7d46e2"
  },
  {
   "metadata": {},
   "cell_type": "markdown",
   "source": [
    "### Teil B\n",
    "Wählen Sie aus einem überlappenden Bildpaar (am Besten aus Übung 3) mindestens 6 Korrespondenzpunkte per Hand aus, d.h. bestimmen Sie wie in Übung 3 die Pixelposition der korrespondierenden Punkte in beiden Bildern. Nehmen Sie 4 Korrespondenzen zur Schätzung der Homografie per DLT und testen Sie anhand der anderen Korrespondenzen die Korrektheit Ihrer Homografie, indem Sie mithilfe der Homografie die Bildposition des Punktes im neuen Bild berechnen und dann den mittleren euklidischen Abstand zu dem korrespondierenden Punkt bestimmen (diese Routine wird später noch für RANSAC gebraucht)."
   ],
   "id": "fff7f99879c2748e"
  },
  {
   "cell_type": "code",
   "execution_count": null,
   "id": "initial_id",
   "metadata": {
    "collapsed": true
   },
   "outputs": [],
   "source": [
    ""
   ]
  },
  {
   "metadata": {},
   "cell_type": "markdown",
   "source": [
    "### Teil C\n",
    "Aufbauend auf Übung 1, schreiben Sie eine Routine zur indirekten Umbildung eines Bildes mithilfe einer Homografie und testen Sie sie anhand der geschätzten Homografie aus *Aufgabe 1 b*. Schreiben Sie ein Programm zur Registrierung zweier Bilder."
   ],
   "id": "e30da71fc130d979"
  },
  {
   "metadata": {},
   "cell_type": "code",
   "outputs": [],
   "execution_count": null,
   "source": "",
   "id": "59fff3f57370e1"
  },
  {
   "metadata": {},
   "cell_type": "markdown",
   "source": [
    "### Teil D\n",
    "Implementieren Sie nun die normierte DLT wie in Vorlesung 5 beschrieben. Wiederholen Sie alle vorigen Tests für die normierte DLT."
   ],
   "id": "82910caf525f72b2"
  },
  {
   "metadata": {},
   "cell_type": "code",
   "outputs": [],
   "execution_count": null,
   "source": "",
   "id": "4529e815c0f776d"
  },
  {
   "metadata": {},
   "cell_type": "markdown",
   "source": [
    "## RANSAC\n",
    "### Teil A\n",
    "Implementieren Sie den RANSAC-Algorithmus für die normierte DLT. Dazu wählt der Algorithmus aus einem Satz von Korrespondenzen zufällig eine Vierergruppe aus, berechnet die Homografie mithilfe der normierten DLT und berechnet den mittleren euklidischen Abstand der übrigen Korrespondenzen."
   ],
   "id": "97c9289ea44eafd6"
  },
  {
   "metadata": {},
   "cell_type": "code",
   "outputs": [],
   "execution_count": null,
   "source": "",
   "id": "b84a46ab551c92b0"
  },
  {
   "metadata": {},
   "cell_type": "markdown",
   "source": [
    "### Teil B\n",
    "Ergänzen Sie Ihre Trainingsdaten aus Aufgabe 1 um mehrere Fehlkorrespondenzen und testen Sie Ihre Implementierung von RANSAC. Kommt die korrekte Homografie heraus?\n",
    "Wurde ein korrektes Consensus set gefunden?"
   ],
   "id": "ae2c4cf485ed4906"
  },
  {
   "metadata": {},
   "cell_type": "code",
   "outputs": [],
   "execution_count": null,
   "source": "",
   "id": "537ff761f5922950"
  },
  {
   "metadata": {},
   "cell_type": "markdown",
   "source": [
    "## Automatisertes Matching mit RANSAC\n",
    "### Teil A\n",
    "Falls noch nicht geschehen, installieren Sie OpenCV. Laden Sie das auf der Vorlesungsseite zur Verfügung gestellte Modul sift.py und installieren Sie es im selben Verzeichnis, in dem auch Ihr Code liegt. Konvertieren Sie Ihre Bilder in Grauwertbilder mit `cv2.cvtColor(im1,cv2.COLOR_BGR2GRAY)`.\n",
    "Das Extrahieren der interest points und der Deskriptoren geschieht durch folgenden Code:\n",
    "```python\n",
    "import cv2 ,sift\n",
    "\n",
    "# .. Bild einlesen und konvertieren\n",
    "img = cv2.cvtColor (img, cv2.COLOR_BGR2GRAY)\n",
    "location_list , descriptor_list = sift.detect_and_compute(img)\n",
    "```\n",
    "\n",
    "Das Matching, d.h. das Auﬃnden korrespondierender Punkte mit ähnlichem SIFT-Deskriptor und Darstellung geschieht über:\n",
    "\n",
    "```python\n",
    "matches = sift.match_twosided(descriptor_list_img1, descriptor_list_img2)\n",
    "sift.plot_matches(im1, im2, location_list_img1, location_list_img2, matches, True)\n",
    "```\n",
    "\n",
    "Testen Sie Ihren Code an dem Bildpaar aus Aufgabe 1 und 2. Wenn die Berechnung von SIFT und Matching korrekt funktioniert, können Sie nun automatisch eine Liste von Korrespondenzen erstellen."
   ],
   "id": "f64555c65cfd96a1"
  },
  {
   "metadata": {
    "ExecuteTime": {
     "end_time": "2025-05-20T10:24:37.977321Z",
     "start_time": "2025-05-20T10:24:37.974507Z"
    }
   },
   "cell_type": "code",
   "source": "",
   "id": "92b7e2b306941606",
   "outputs": [],
   "execution_count": 1
  },
  {
   "metadata": {},
   "cell_type": "markdown",
   "source": [
    "### Teil B\n",
    "Testen Sie Ihre automatisch gefundenen Korrespondenzen mit RANSAC (500–1000 Iterationen) und normierter DLT. Kommt die gleiche oder zumindest eine ähnliche Homographie heraus? Welchen mittleren quadratischen Fehler erhalten Sie? Erstellen Sie ein Programm\n",
    " zur automatischen Registrierung zweier Bilder und testen Sie dieses an allen Bildpaaren aus Übungsblatt 3."
   ],
   "id": "b2c1dedaae4275b3"
  },
  {
   "metadata": {},
   "cell_type": "code",
   "outputs": [],
   "source": "",
   "id": "fe8ecab933b08f84",
   "execution_count": null
  }
 ],
 "metadata": {
  "kernelspec": {
   "display_name": "Python 3",
   "language": "python",
   "name": "python3"
  },
  "language_info": {
   "codemirror_mode": {
    "name": "ipython",
    "version": 2
   },
   "file_extension": ".py",
   "mimetype": "text/x-python",
   "name": "python",
   "nbconvert_exporter": "python",
   "pygments_lexer": "ipython2",
   "version": "2.7.6"
  }
 },
 "nbformat": 4,
 "nbformat_minor": 5
}
