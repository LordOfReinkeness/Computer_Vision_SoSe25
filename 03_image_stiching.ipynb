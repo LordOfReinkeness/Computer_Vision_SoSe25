{
 "cells": [
  {
   "metadata": {},
   "cell_type": "markdown",
   "source": [
    "# IMAGE STITCHING\n",
    "\n",
    "Aufbauend auf der Python-Funktion zur projektiven Entzerrung soll nun ein Panorama aus einer Serie von Bildern eines (möglichst ebenen) Objekts erstellt werden. Dazu gehen wir wie folgt vor:\n",
    "1. Wie bei der projektiven Entzerrung vermessen wir in jedem Bild mindestens 4 Punkte, für die wir geschätzte Weltkoordinaten festlegen. Sinnvollerweise sollten einige dieser Punkte im Überlappungsbereich beider Bilder liegen.\n",
    "2. Mithilfe der projektiven Entzerrung werden die Bilder in das Weltkoordinatensystem transformiert.\n",
    "3. Die transformierten Bilder werden miteinander in einem Bild verschmolzen.\n",
    "\n",
    "Idealerweise sollte jeder Pixel in den überlappenden Bereichen die gleiche Intensität haben, aber dies ist in der Realität nicht der Fall. Gründe dafür sind unterschiedliche Belichtungszeiten oder Blendenwahl, Vignettierung (Abnahme der Intensität zu den Bildrändern hin), Schätzungsfehler bei der projektiven Entzerrung, radiale Verzerrung der Kameraoptik usw.\n",
    "\n",
    "Eine einfache Strategie ist die gewichtete Verschmelzung der Bilder. Dabei wird jeder Pixel mit seinem Abstand zu den Mittellinien gewichtet, so daß Pixel in der Bildmitte Gewicht 1 und Pixel an den Rändern Gewicht 0 haben. Für ein Bild mit Breite M und Höhe N und ein Pixel an der Position i, j berechnet sich das Gewicht als\n",
    "\n",
    "$$\n",
    "w_{ij} = \\left( 1 - \\frac{2}{M} \\left| i - \\frac{M}{2} \\right| \\right) \\times \\left(1 - \\frac{2}{N} \\left| j - \\frac{N}{2} \\right| \\right)\n",
    "$$\n",
    "\n",
    "In überlappenden Bildbereichen wird entweder nur der Pixel mit dem höheren Gewicht übernommen, oder eine gewichtete Summe aus beiden Pixeln berechnet. Im ersten Fall besteht die Gefahr, daß sichtbare Diskontinuitäten entstehen, im zweiten Fall können aufgrund von Registrierungsfehlern Details verloren gehen. Die beste Vorgehensweise ist daher das sogenannte multi-band blending: Mit Hilfe eines Tiefpasses wird das Bild in einen hoch- und einen tieffrequentes Anteil zerlegt. Der tieffrequente Anteil, also die groben Strukturen, werden durch gewichtete Mittelung vereinigt, der hochfrequente Details durch Beibehaltung des Pixels mit dem höchsten Gewicht."
   ],
   "id": "338431f909b0a042"
  },
  {
   "metadata": {},
   "cell_type": "markdown",
   "source": "## Aufgaben",
   "id": "27bbde4c60520a1c"
  },
  {
   "metadata": {},
   "cell_type": "code",
   "outputs": [],
   "execution_count": null,
   "source": "from scripts.utils import *",
   "id": "e1f3f2fc6d3ade65"
  },
  {
   "metadata": {},
   "cell_type": "markdown",
   "source": [
    "### Teil A\n",
    "\n",
    "Erweitern Sie Ihre Python-Funktion zur projektiven Entzerrung so, daß sie mehr als 4 Passpunkte\n",
    "verarbeiten kann."
   ],
   "id": "68654f3e4aef983c"
  },
  {
   "cell_type": "code",
   "execution_count": null,
   "id": "initial_id",
   "metadata": {
    "collapsed": true
   },
   "outputs": [],
   "source": [
    "import numpy as np\n",
    "\n",
    "\n",
    "def projective_transform(H, img, dst_height, dst_width):\n",
    "    target_matrix = np.zeros((dst_height, dst_width, img.shape[2]), dtype=img.dtype)\n",
    "\n",
    "    if np.linalg.det(H) == 0:\n",
    "        print(\"Transformation not possible: det(A^-1) = 0\")\n",
    "        return target_matrix\n",
    "\n",
    "    for y in range(dst_height):\n",
    "        for x in range(dst_width):\n",
    "\n",
    "            loc_h = H.dot([x, y, 1])\n",
    "            loc = loc_h[:2] / loc_h[2]\n",
    "\n",
    "            target_matrix[y][x] = bilinear_neighbor(img, loc)\n",
    "\n",
    "    return target_matrix"
   ]
  },
  {
   "metadata": {},
   "cell_type": "markdown",
   "source": [
    "### Teil B\n",
    "Nehmen Sie mit einer Kamera Ihrer Wahl eine Serie von mindestens 4 Aufnahmen eines ebenen Objektes (z.B. Fassaden, Häuserfront) von unterschiedlichen Standpunkten her auf. Legen Sie eine Liste von Passpunkten mit geschätzten Weltkoordinaten an, wobei pro Bild mindestens 4 Passpunkte (besser mehr) vorhanden sein sollten. Idealerweise sollten jeweils mindestens 2 Passpunkte im Überlappungsbereich liegen."
   ],
   "id": "b2d523ab1d2eb43c"
  },
  {
   "metadata": {},
   "cell_type": "code",
   "outputs": [],
   "execution_count": null,
   "source": "",
   "id": "955a323dc9ea7ced"
  },
  {
   "metadata": {},
   "cell_type": "markdown",
   "source": [
    "### Teil C\n",
    "Schreiben Sie eine Funktion, die ein projektiv entzerrtes Bildpaar miteinander in ein neues, größeres Bild verschmelzen kann. Der Benutzer soll dabei wählen können, ob jeweils nur die Pixel mi dem größeren Gewicht beibehalten werden, oder ob ein gewichtetes Mittel aus allen Pixeln berechnet wird."
   ],
   "id": "4fb4315d14560fdd"
  },
  {
   "metadata": {},
   "cell_type": "code",
   "outputs": [],
   "execution_count": null,
   "source": "",
   "id": "90d8977aa5ee68db"
  },
  {
   "metadata": {},
   "cell_type": "markdown",
   "source": [
    "### Teil D\n",
    "Schreiben SIe eine weitere Funktion, die ein projektiv entzerrtes Bildpaar in einen Hoch- und einen Tiefgasanteil zerlegt und dann über multi-band blending vereinigt. Der Tiefpass (z.B. ein Gauß-Tiefpass oder ein gleitender Mittelwert) kann hierzu mit der Matlab-Funktion filter2 realisiert werden. Den Hochpass Anteil erhält man einfach durch Subtraktion des Tiefpass Anteils vom Eingangsbild."
   ],
   "id": "3d0132119b896d26"
  },
  {
   "metadata": {},
   "cell_type": "code",
   "outputs": [],
   "execution_count": null,
   "source": "",
   "id": "f4aae59f04f10cd2"
  },
  {
   "metadata": {},
   "cell_type": "markdown",
   "source": [
    "*Nützliche Python-Funktionen:*\n",
    "- Die Pseudoinverse einer Matrix wird mithilfe von `numpy.linalg.pinv` berechnet."
   ],
   "id": "9fad3694d4be5cc4"
  }
 ],
 "metadata": {
  "kernelspec": {
   "display_name": "Python 3",
   "language": "python",
   "name": "python3"
  },
  "language_info": {
   "codemirror_mode": {
    "name": "ipython",
    "version": 2
   },
   "file_extension": ".py",
   "mimetype": "text/x-python",
   "name": "python",
   "nbconvert_exporter": "python",
   "pygments_lexer": "ipython2",
   "version": "2.7.6"
  }
 },
 "nbformat": 4,
 "nbformat_minor": 5
}
